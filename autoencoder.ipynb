{
 "cells": [
  {
   "cell_type": "code",
   "execution_count": 27,
   "metadata": {},
   "outputs": [],
   "source": [
    "# img links\n",
    "with open ('/Users/admin/Desktop/jandan-links.txt', 'r') as f:\n",
    "    links = f.readlines()\n",
    "links = [x[:-1] for x in links]"
   ]
  },
  {
   "cell_type": "code",
   "execution_count": 83,
   "metadata": {},
   "outputs": [],
   "source": [
    "import cv2\n",
    "import numpy as np\n",
    "import urllib\n",
    "import imageio\n",
    "from PIL import Image\n",
    "from io import BytesIO\n",
    "\n",
    "def url2img(url):\n",
    "    if '.gif' in url:\n",
    "        tmp_gif = urllib.request.urlopen(url).read()\n",
    "        imgObj = Image.open(BytesIO(tmp_gif))\n",
    "        image = list(imgObj.getdata())\n",
    "        print (imgObj.info)\n",
    "        return image\n",
    "    else:\n",
    "        resp = urllib.request.urlopen(url)\n",
    "        image = np.asarray(bytearray(resp.read()), dtype=\"uint8\")\n",
    "        image = cv2.imdecode(image, cv2.IMREAD_COLOR)\n",
    "        return image"
   ]
  },
  {
   "cell_type": "code",
   "execution_count": 85,
   "metadata": {},
   "outputs": [
    {
     "name": "stdout",
     "output_type": "stream",
     "text": [
      "{'version': b'GIF89a', 'background': 0, 'extension': (b'NETSCAPE2.0', 795), 'loop': 0, 'duration': 100}\n"
     ]
    }
   ],
   "source": [
    "tt = url2img(links[0])"
   ]
  }
 ],
 "metadata": {
  "kernelspec": {
   "display_name": "Python 3",
   "language": "python",
   "name": "python3"
  },
  "language_info": {
   "codemirror_mode": {
    "name": "ipython",
    "version": 3
   },
   "file_extension": ".py",
   "mimetype": "text/x-python",
   "name": "python",
   "nbconvert_exporter": "python",
   "pygments_lexer": "ipython3",
   "version": "3.6.1"
  }
 },
 "nbformat": 4,
 "nbformat_minor": 2
}
