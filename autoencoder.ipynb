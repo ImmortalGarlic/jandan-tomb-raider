{
 "cells": [
  {
   "cell_type": "code",
   "execution_count": 1,
   "metadata": {},
   "outputs": [],
   "source": [
    "# crawled img links\n",
    "with open ('./jandan-links.txt', 'r') as f:\n",
    "    links = f.readlines()\n",
    "links = [x[:-1] for x in links]"
   ]
  },
  {
   "cell_type": "code",
   "execution_count": 99,
   "metadata": {},
   "outputs": [],
   "source": [
    "# image pre-process: resize, squarize, to_array\n",
    "import numpy as np\n",
    "import urllib\n",
    "from PIL import Image, ImageOps\n",
    "from io import BytesIO\n",
    "\n",
    "def url2img(url):\n",
    "    response = urllib.request.urlopen(url).read()\n",
    "    image = Image.open(BytesIO(response))\n",
    "    # use the first frame if gif\n",
    "    if '.gif' in url: \n",
    "        image.seek(0)\n",
    "    # make sure the image is in RGB mode\n",
    "    if image.mode != 'RGB':\n",
    "        image = image.convert(mode='RGB')\n",
    "    # center crop\n",
    "    width, height = image.size\n",
    "    new    = min(width, height)\n",
    "    left   = (width - new)/2\n",
    "    top    = (height - new)/2\n",
    "    right  = (width + new)/2\n",
    "    bottom = (height + new)/2\n",
    "    image = image.crop((left, top, right, bottom))\n",
    "    image = image.resize(size=(100,100))\n",
    "    # now convert the image to numpy array\n",
    "    array = np.array(image)\n",
    "    return array"
   ]
  },
  {
   "cell_type": "code",
   "execution_count": 100,
   "metadata": {},
   "outputs": [
    {
     "data": {
      "text/plain": [
       "array([[[  5,   1,   2],\n",
       "        [164, 182, 194],\n",
       "        [154, 161, 187],\n",
       "        ..., \n",
       "        [ 60,  76,  76],\n",
       "        [ 63,  74,  76],\n",
       "        [  0,   4,   8]],\n",
       "\n",
       "       [[  6,   2,   3],\n",
       "        [168, 186, 198],\n",
       "        [116, 128, 152],\n",
       "        ..., \n",
       "        [ 61,  72,  74],\n",
       "        [ 64,  72,  75],\n",
       "        [  1,   2,   7]],\n",
       "\n",
       "       [[  3,   1,   2],\n",
       "        [166, 183, 193],\n",
       "        [ 98, 106, 127],\n",
       "        ..., \n",
       "        [ 64,  74,  76],\n",
       "        [ 59,  70,  72],\n",
       "        [  0,   0,   5]],\n",
       "\n",
       "       ..., \n",
       "       [[255, 255, 255],\n",
       "        [255, 255, 255],\n",
       "        [255, 255, 255],\n",
       "        ..., \n",
       "        [255, 255, 255],\n",
       "        [255, 255, 255],\n",
       "        [255, 255, 255]],\n",
       "\n",
       "       [[255, 255, 255],\n",
       "        [255, 255, 255],\n",
       "        [255, 255, 255],\n",
       "        ..., \n",
       "        [255, 255, 255],\n",
       "        [255, 255, 255],\n",
       "        [255, 255, 255]],\n",
       "\n",
       "       [[255, 255, 255],\n",
       "        [255, 255, 255],\n",
       "        [255, 255, 255],\n",
       "        ..., \n",
       "        [255, 255, 255],\n",
       "        [255, 255, 255],\n",
       "        [255, 255, 255]]], dtype=uint8)"
      ]
     },
     "execution_count": 100,
     "metadata": {},
     "output_type": "execute_result"
    }
   ],
   "source": [
    "url2img(links[2])"
   ]
  }
 ],
 "metadata": {
  "kernelspec": {
   "display_name": "Python 3",
   "language": "python",
   "name": "python3"
  },
  "language_info": {
   "codemirror_mode": {
    "name": "ipython",
    "version": 3
   },
   "file_extension": ".py",
   "mimetype": "text/x-python",
   "name": "python",
   "nbconvert_exporter": "python",
   "pygments_lexer": "ipython3",
   "version": "3.6.1"
  }
 },
 "nbformat": 4,
 "nbformat_minor": 2
}
